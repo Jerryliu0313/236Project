{
  "cells": [
    {
      "cell_type": "markdown",
      "source": [
        "# Setup"
      ],
      "metadata": {
        "id": "hmzgEJFYwavi"
      }
    },
    {
      "cell_type": "code",
      "execution_count": null,
      "metadata": {
        "id": "DB5Mj_lo3vd6"
      },
      "outputs": [],
      "source": [
        "try:\n",
        "    # This library is our indicator that the required installs\n",
        "    # need to be done.\n",
        "    import datasets\n",
        "    root_path = '.'\n",
        "except ModuleNotFoundError:\n",
        "    !git clone https://github.com/cgpotts/cs224u/\n",
        "    !pip install -r cs224u/requirements.txt\n",
        "    root_path = 'dsp'"
      ]
    },
    {
      "cell_type": "code",
      "source": [
        "!pip uninstall dsp-ml\n",
        "!pip install --no-cache git+https://github.com/stanfordnlp/dsp"
      ],
      "metadata": {
        "id": "Zj2HqAHXBEa8",
        "colab": {
          "base_uri": "https://localhost:8080/"
        },
        "outputId": "aeb94488-998f-4423-8124-2b895a1d457a"
      },
      "execution_count": null,
      "outputs": [
        {
          "output_type": "stream",
          "name": "stdout",
          "text": [
            "Found existing installation: dsp-ml 0.1.5\n",
            "Uninstalling dsp-ml-0.1.5:\n",
            "  Would remove:\n",
            "    /usr/local/lib/python3.10/dist-packages/dsp/*\n",
            "    /usr/local/lib/python3.10/dist-packages/dsp_ml-0.1.5.dist-info/*\n",
            "Proceed (Y/n)? Y\n",
            "  Successfully uninstalled dsp-ml-0.1.5\n",
            "Looking in indexes: https://pypi.org/simple, https://us-python.pkg.dev/colab-wheels/public/simple/\n",
            "Collecting git+https://github.com/stanfordnlp/dsp\n",
            "  Cloning https://github.com/stanfordnlp/dsp to /tmp/pip-req-build-k2kcax8r\n",
            "  Running command git clone --filter=blob:none --quiet https://github.com/stanfordnlp/dsp /tmp/pip-req-build-k2kcax8r\n",
            "  Resolved https://github.com/stanfordnlp/dsp to commit 298fac8937fdf7326d1b85546ecd41f099ed33e2\n",
            "  Preparing metadata (setup.py) ... \u001b[?25l\u001b[?25hdone\n",
            "Requirement already satisfied: backoff in /usr/local/lib/python3.10/dist-packages (from dsp-ml==0.1.5) (2.2.1)\n",
            "Requirement already satisfied: joblib in /usr/local/lib/python3.10/dist-packages (from dsp-ml==0.1.5) (1.2.0)\n",
            "Requirement already satisfied: jupyter in /usr/local/lib/python3.10/dist-packages (from dsp-ml==0.1.5) (1.0.0)\n",
            "Requirement already satisfied: openai in /usr/local/lib/python3.10/dist-packages (from dsp-ml==0.1.5) (0.27.8)\n",
            "Requirement already satisfied: pandas in /usr/local/lib/python3.10/dist-packages (from dsp-ml==0.1.5) (1.5.3)\n",
            "Requirement already satisfied: spacy in /usr/local/lib/python3.10/dist-packages (from dsp-ml==0.1.5) (3.5.1)\n",
            "Requirement already satisfied: regex in /usr/local/lib/python3.10/dist-packages (from dsp-ml==0.1.5) (2022.10.31)\n",
            "Requirement already satisfied: ujson in /usr/local/lib/python3.10/dist-packages (from dsp-ml==0.1.5) (5.7.0)\n",
            "Requirement already satisfied: tqdm in /usr/local/lib/python3.10/dist-packages (from dsp-ml==0.1.5) (4.65.0)\n",
            "Requirement already satisfied: datasets in /usr/local/lib/python3.10/dist-packages (from dsp-ml==0.1.5) (2.10.1)\n",
            "Requirement already satisfied: numpy>=1.17 in /usr/local/lib/python3.10/dist-packages (from datasets->dsp-ml==0.1.5) (1.22.4)\n",
            "Requirement already satisfied: pyarrow>=6.0.0 in /usr/local/lib/python3.10/dist-packages (from datasets->dsp-ml==0.1.5) (9.0.0)\n",
            "Requirement already satisfied: dill<0.3.7,>=0.3.0 in /usr/local/lib/python3.10/dist-packages (from datasets->dsp-ml==0.1.5) (0.3.6)\n",
            "Requirement already satisfied: requests>=2.19.0 in /usr/local/lib/python3.10/dist-packages (from datasets->dsp-ml==0.1.5) (2.27.1)\n",
            "Requirement already satisfied: xxhash in /usr/local/lib/python3.10/dist-packages (from datasets->dsp-ml==0.1.5) (3.2.0)\n",
            "Requirement already satisfied: multiprocess in /usr/local/lib/python3.10/dist-packages (from datasets->dsp-ml==0.1.5) (0.70.14)\n",
            "Requirement already satisfied: fsspec[http]>=2021.11.1 in /usr/local/lib/python3.10/dist-packages (from datasets->dsp-ml==0.1.5) (2023.4.0)\n",
            "Requirement already satisfied: aiohttp in /usr/local/lib/python3.10/dist-packages (from datasets->dsp-ml==0.1.5) (3.8.4)\n",
            "Requirement already satisfied: huggingface-hub<1.0.0,>=0.2.0 in /usr/local/lib/python3.10/dist-packages (from datasets->dsp-ml==0.1.5) (0.15.1)\n",
            "Requirement already satisfied: packaging in /usr/local/lib/python3.10/dist-packages (from datasets->dsp-ml==0.1.5) (23.1)\n",
            "Requirement already satisfied: responses<0.19 in /usr/local/lib/python3.10/dist-packages (from datasets->dsp-ml==0.1.5) (0.18.0)\n",
            "Requirement already satisfied: pyyaml>=5.1 in /usr/local/lib/python3.10/dist-packages (from datasets->dsp-ml==0.1.5) (6.0)\n",
            "Requirement already satisfied: notebook in /usr/local/lib/python3.10/dist-packages (from jupyter->dsp-ml==0.1.5) (6.4.8)\n",
            "Requirement already satisfied: qtconsole in /usr/local/lib/python3.10/dist-packages (from jupyter->dsp-ml==0.1.5) (5.4.3)\n",
            "Requirement already satisfied: jupyter-console in /usr/local/lib/python3.10/dist-packages (from jupyter->dsp-ml==0.1.5) (6.1.0)\n",
            "Requirement already satisfied: nbconvert in /usr/local/lib/python3.10/dist-packages (from jupyter->dsp-ml==0.1.5) (6.5.4)\n",
            "Requirement already satisfied: ipykernel in /usr/local/lib/python3.10/dist-packages (from jupyter->dsp-ml==0.1.5) (5.5.6)\n",
            "Requirement already satisfied: ipywidgets in /usr/local/lib/python3.10/dist-packages (from jupyter->dsp-ml==0.1.5) (7.7.1)\n",
            "Requirement already satisfied: python-dateutil>=2.8.1 in /usr/local/lib/python3.10/dist-packages (from pandas->dsp-ml==0.1.5) (2.8.2)\n",
            "Requirement already satisfied: pytz>=2020.1 in /usr/local/lib/python3.10/dist-packages (from pandas->dsp-ml==0.1.5) (2022.7.1)\n",
            "Requirement already satisfied: spacy-legacy<3.1.0,>=3.0.11 in /usr/local/lib/python3.10/dist-packages (from spacy->dsp-ml==0.1.5) (3.0.12)\n",
            "Requirement already satisfied: spacy-loggers<2.0.0,>=1.0.0 in /usr/local/lib/python3.10/dist-packages (from spacy->dsp-ml==0.1.5) (1.0.4)\n",
            "Requirement already satisfied: murmurhash<1.1.0,>=0.28.0 in /usr/local/lib/python3.10/dist-packages (from spacy->dsp-ml==0.1.5) (1.0.9)\n",
            "Requirement already satisfied: cymem<2.1.0,>=2.0.2 in /usr/local/lib/python3.10/dist-packages (from spacy->dsp-ml==0.1.5) (2.0.7)\n",
            "Requirement already satisfied: preshed<3.1.0,>=3.0.2 in /usr/local/lib/python3.10/dist-packages (from spacy->dsp-ml==0.1.5) (3.0.8)\n",
            "Requirement already satisfied: thinc<8.2.0,>=8.1.8 in /usr/local/lib/python3.10/dist-packages (from spacy->dsp-ml==0.1.5) (8.1.9)\n",
            "Requirement already satisfied: wasabi<1.2.0,>=0.9.1 in /usr/local/lib/python3.10/dist-packages (from spacy->dsp-ml==0.1.5) (1.1.1)\n",
            "Requirement already satisfied: srsly<3.0.0,>=2.4.3 in /usr/local/lib/python3.10/dist-packages (from spacy->dsp-ml==0.1.5) (2.4.6)\n",
            "Requirement already satisfied: catalogue<2.1.0,>=2.0.6 in /usr/local/lib/python3.10/dist-packages (from spacy->dsp-ml==0.1.5) (2.0.8)\n",
            "Requirement already satisfied: typer<0.8.0,>=0.3.0 in /usr/local/lib/python3.10/dist-packages (from spacy->dsp-ml==0.1.5) (0.7.0)\n",
            "Requirement already satisfied: pathy>=0.10.0 in /usr/local/lib/python3.10/dist-packages (from spacy->dsp-ml==0.1.5) (0.10.1)\n",
            "Requirement already satisfied: smart-open<7.0.0,>=5.2.1 in /usr/local/lib/python3.10/dist-packages (from spacy->dsp-ml==0.1.5) (6.3.0)\n",
            "Requirement already satisfied: pydantic!=1.8,!=1.8.1,<1.11.0,>=1.7.4 in /usr/local/lib/python3.10/dist-packages (from spacy->dsp-ml==0.1.5) (1.10.7)\n",
            "Requirement already satisfied: jinja2 in /usr/local/lib/python3.10/dist-packages (from spacy->dsp-ml==0.1.5) (3.1.2)\n",
            "Requirement already satisfied: setuptools in /usr/local/lib/python3.10/dist-packages (from spacy->dsp-ml==0.1.5) (67.7.2)\n",
            "Requirement already satisfied: langcodes<4.0.0,>=3.2.0 in /usr/local/lib/python3.10/dist-packages (from spacy->dsp-ml==0.1.5) (3.3.0)\n",
            "Requirement already satisfied: attrs>=17.3.0 in /usr/local/lib/python3.10/dist-packages (from aiohttp->datasets->dsp-ml==0.1.5) (23.1.0)\n",
            "Requirement already satisfied: charset-normalizer<4.0,>=2.0 in /usr/local/lib/python3.10/dist-packages (from aiohttp->datasets->dsp-ml==0.1.5) (2.0.12)\n",
            "Requirement already satisfied: multidict<7.0,>=4.5 in /usr/local/lib/python3.10/dist-packages (from aiohttp->datasets->dsp-ml==0.1.5) (6.0.4)\n",
            "Requirement already satisfied: async-timeout<5.0,>=4.0.0a3 in /usr/local/lib/python3.10/dist-packages (from aiohttp->datasets->dsp-ml==0.1.5) (4.0.2)\n",
            "Requirement already satisfied: yarl<2.0,>=1.0 in /usr/local/lib/python3.10/dist-packages (from aiohttp->datasets->dsp-ml==0.1.5) (1.9.2)\n",
            "Requirement already satisfied: frozenlist>=1.1.1 in /usr/local/lib/python3.10/dist-packages (from aiohttp->datasets->dsp-ml==0.1.5) (1.3.3)\n",
            "Requirement already satisfied: aiosignal>=1.1.2 in /usr/local/lib/python3.10/dist-packages (from aiohttp->datasets->dsp-ml==0.1.5) (1.3.1)\n",
            "Requirement already satisfied: filelock in /usr/local/lib/python3.10/dist-packages (from huggingface-hub<1.0.0,>=0.2.0->datasets->dsp-ml==0.1.5) (3.12.0)\n",
            "Requirement already satisfied: typing-extensions>=3.7.4.3 in /usr/local/lib/python3.10/dist-packages (from huggingface-hub<1.0.0,>=0.2.0->datasets->dsp-ml==0.1.5) (4.5.0)\n",
            "Requirement already satisfied: six>=1.5 in /usr/local/lib/python3.10/dist-packages (from python-dateutil>=2.8.1->pandas->dsp-ml==0.1.5) (1.16.0)\n",
            "Requirement already satisfied: urllib3<1.27,>=1.21.1 in /usr/local/lib/python3.10/dist-packages (from requests>=2.19.0->datasets->dsp-ml==0.1.5) (1.26.15)\n",
            "Requirement already satisfied: certifi>=2017.4.17 in /usr/local/lib/python3.10/dist-packages (from requests>=2.19.0->datasets->dsp-ml==0.1.5) (2022.12.7)\n",
            "Requirement already satisfied: idna<4,>=2.5 in /usr/local/lib/python3.10/dist-packages (from requests>=2.19.0->datasets->dsp-ml==0.1.5) (3.4)\n",
            "Requirement already satisfied: blis<0.8.0,>=0.7.8 in /usr/local/lib/python3.10/dist-packages (from thinc<8.2.0,>=8.1.8->spacy->dsp-ml==0.1.5) (0.7.9)\n",
            "Requirement already satisfied: confection<1.0.0,>=0.0.1 in /usr/local/lib/python3.10/dist-packages (from thinc<8.2.0,>=8.1.8->spacy->dsp-ml==0.1.5) (0.0.4)\n",
            "Requirement already satisfied: click<9.0.0,>=7.1.1 in /usr/local/lib/python3.10/dist-packages (from typer<0.8.0,>=0.3.0->spacy->dsp-ml==0.1.5) (8.1.3)\n",
            "Requirement already satisfied: ipython-genutils in /usr/local/lib/python3.10/dist-packages (from ipykernel->jupyter->dsp-ml==0.1.5) (0.2.0)\n",
            "Requirement already satisfied: ipython>=5.0.0 in /usr/local/lib/python3.10/dist-packages (from ipykernel->jupyter->dsp-ml==0.1.5) (7.34.0)\n",
            "Requirement already satisfied: traitlets>=4.1.0 in /usr/local/lib/python3.10/dist-packages (from ipykernel->jupyter->dsp-ml==0.1.5) (5.7.1)\n",
            "Requirement already satisfied: jupyter-client in /usr/local/lib/python3.10/dist-packages (from ipykernel->jupyter->dsp-ml==0.1.5) (6.1.12)\n",
            "Requirement already satisfied: tornado>=4.2 in /usr/local/lib/python3.10/dist-packages (from ipykernel->jupyter->dsp-ml==0.1.5) (6.3.1)\n",
            "Requirement already satisfied: widgetsnbextension~=3.6.0 in /usr/local/lib/python3.10/dist-packages (from ipywidgets->jupyter->dsp-ml==0.1.5) (3.6.4)\n",
            "Requirement already satisfied: jupyterlab-widgets>=1.0.0 in /usr/local/lib/python3.10/dist-packages (from ipywidgets->jupyter->dsp-ml==0.1.5) (3.0.7)\n",
            "Requirement already satisfied: MarkupSafe>=2.0 in /usr/local/lib/python3.10/dist-packages (from jinja2->spacy->dsp-ml==0.1.5) (2.1.2)\n",
            "Requirement already satisfied: prompt-toolkit!=3.0.0,!=3.0.1,<3.1.0,>=2.0.0 in /usr/local/lib/python3.10/dist-packages (from jupyter-console->jupyter->dsp-ml==0.1.5) (3.0.38)\n",
            "Requirement already satisfied: pygments in /usr/local/lib/python3.10/dist-packages (from jupyter-console->jupyter->dsp-ml==0.1.5) (2.14.0)\n",
            "Requirement already satisfied: lxml in /usr/local/lib/python3.10/dist-packages (from nbconvert->jupyter->dsp-ml==0.1.5) (4.9.2)\n",
            "Requirement already satisfied: beautifulsoup4 in /usr/local/lib/python3.10/dist-packages (from nbconvert->jupyter->dsp-ml==0.1.5) (4.11.2)\n",
            "Requirement already satisfied: bleach in /usr/local/lib/python3.10/dist-packages (from nbconvert->jupyter->dsp-ml==0.1.5) (6.0.0)\n",
            "Requirement already satisfied: defusedxml in /usr/local/lib/python3.10/dist-packages (from nbconvert->jupyter->dsp-ml==0.1.5) (0.7.1)\n",
            "Requirement already satisfied: entrypoints>=0.2.2 in /usr/local/lib/python3.10/dist-packages (from nbconvert->jupyter->dsp-ml==0.1.5) (0.4)\n",
            "Requirement already satisfied: jupyter-core>=4.7 in /usr/local/lib/python3.10/dist-packages (from nbconvert->jupyter->dsp-ml==0.1.5) (5.3.0)\n",
            "Requirement already satisfied: jupyterlab-pygments in /usr/local/lib/python3.10/dist-packages (from nbconvert->jupyter->dsp-ml==0.1.5) (0.2.2)\n",
            "Requirement already satisfied: mistune<2,>=0.8.1 in /usr/local/lib/python3.10/dist-packages (from nbconvert->jupyter->dsp-ml==0.1.5) (0.8.4)\n",
            "Requirement already satisfied: nbclient>=0.5.0 in /usr/local/lib/python3.10/dist-packages (from nbconvert->jupyter->dsp-ml==0.1.5) (0.7.4)\n",
            "Requirement already satisfied: nbformat>=5.1 in /usr/local/lib/python3.10/dist-packages (from nbconvert->jupyter->dsp-ml==0.1.5) (5.8.0)\n",
            "Requirement already satisfied: pandocfilters>=1.4.1 in /usr/local/lib/python3.10/dist-packages (from nbconvert->jupyter->dsp-ml==0.1.5) (1.5.0)\n",
            "Requirement already satisfied: tinycss2 in /usr/local/lib/python3.10/dist-packages (from nbconvert->jupyter->dsp-ml==0.1.5) (1.2.1)\n",
            "Requirement already satisfied: pyzmq>=17 in /usr/local/lib/python3.10/dist-packages (from notebook->jupyter->dsp-ml==0.1.5) (23.2.1)\n",
            "Requirement already satisfied: argon2-cffi in /usr/local/lib/python3.10/dist-packages (from notebook->jupyter->dsp-ml==0.1.5) (21.3.0)\n",
            "Requirement already satisfied: nest-asyncio>=1.5 in /usr/local/lib/python3.10/dist-packages (from notebook->jupyter->dsp-ml==0.1.5) (1.5.6)\n",
            "Requirement already satisfied: Send2Trash>=1.8.0 in /usr/local/lib/python3.10/dist-packages (from notebook->jupyter->dsp-ml==0.1.5) (1.8.0)\n",
            "Requirement already satisfied: terminado>=0.8.3 in /usr/local/lib/python3.10/dist-packages (from notebook->jupyter->dsp-ml==0.1.5) (0.17.1)\n",
            "Requirement already satisfied: prometheus-client in /usr/local/lib/python3.10/dist-packages (from notebook->jupyter->dsp-ml==0.1.5) (0.16.0)\n",
            "Requirement already satisfied: qtpy>=2.0.1 in /usr/local/lib/python3.10/dist-packages (from qtconsole->jupyter->dsp-ml==0.1.5) (2.3.1)\n",
            "Requirement already satisfied: jedi>=0.16 in /usr/local/lib/python3.10/dist-packages (from ipython>=5.0.0->ipykernel->jupyter->dsp-ml==0.1.5) (0.18.2)\n",
            "Requirement already satisfied: decorator in /usr/local/lib/python3.10/dist-packages (from ipython>=5.0.0->ipykernel->jupyter->dsp-ml==0.1.5) (4.4.2)\n",
            "Requirement already satisfied: pickleshare in /usr/local/lib/python3.10/dist-packages (from ipython>=5.0.0->ipykernel->jupyter->dsp-ml==0.1.5) (0.7.5)\n",
            "Requirement already satisfied: backcall in /usr/local/lib/python3.10/dist-packages (from ipython>=5.0.0->ipykernel->jupyter->dsp-ml==0.1.5) (0.2.0)\n",
            "Requirement already satisfied: matplotlib-inline in /usr/local/lib/python3.10/dist-packages (from ipython>=5.0.0->ipykernel->jupyter->dsp-ml==0.1.5) (0.1.6)\n",
            "Requirement already satisfied: pexpect>4.3 in /usr/local/lib/python3.10/dist-packages (from ipython>=5.0.0->ipykernel->jupyter->dsp-ml==0.1.5) (4.8.0)\n",
            "Requirement already satisfied: platformdirs>=2.5 in /usr/local/lib/python3.10/dist-packages (from jupyter-core>=4.7->nbconvert->jupyter->dsp-ml==0.1.5) (3.3.0)\n",
            "Requirement already satisfied: fastjsonschema in /usr/local/lib/python3.10/dist-packages (from nbformat>=5.1->nbconvert->jupyter->dsp-ml==0.1.5) (2.16.3)\n",
            "Requirement already satisfied: jsonschema>=2.6 in /usr/local/lib/python3.10/dist-packages (from nbformat>=5.1->nbconvert->jupyter->dsp-ml==0.1.5) (4.3.3)\n",
            "Requirement already satisfied: wcwidth in /usr/local/lib/python3.10/dist-packages (from prompt-toolkit!=3.0.0,!=3.0.1,<3.1.0,>=2.0.0->jupyter-console->jupyter->dsp-ml==0.1.5) (0.2.6)\n",
            "Requirement already satisfied: ptyprocess in /usr/local/lib/python3.10/dist-packages (from terminado>=0.8.3->notebook->jupyter->dsp-ml==0.1.5) (0.7.0)\n",
            "Requirement already satisfied: argon2-cffi-bindings in /usr/local/lib/python3.10/dist-packages (from argon2-cffi->notebook->jupyter->dsp-ml==0.1.5) (21.2.0)\n",
            "Requirement already satisfied: soupsieve>1.2 in /usr/local/lib/python3.10/dist-packages (from beautifulsoup4->nbconvert->jupyter->dsp-ml==0.1.5) (2.4.1)\n",
            "Requirement already satisfied: webencodings in /usr/local/lib/python3.10/dist-packages (from bleach->nbconvert->jupyter->dsp-ml==0.1.5) (0.5.1)\n",
            "Requirement already satisfied: parso<0.9.0,>=0.8.0 in /usr/local/lib/python3.10/dist-packages (from jedi>=0.16->ipython>=5.0.0->ipykernel->jupyter->dsp-ml==0.1.5) (0.8.3)\n",
            "Requirement already satisfied: pyrsistent!=0.17.0,!=0.17.1,!=0.17.2,>=0.14.0 in /usr/local/lib/python3.10/dist-packages (from jsonschema>=2.6->nbformat>=5.1->nbconvert->jupyter->dsp-ml==0.1.5) (0.19.3)\n",
            "Requirement already satisfied: cffi>=1.0.1 in /usr/local/lib/python3.10/dist-packages (from argon2-cffi-bindings->argon2-cffi->notebook->jupyter->dsp-ml==0.1.5) (1.15.1)\n",
            "Requirement already satisfied: pycparser in /usr/local/lib/python3.10/dist-packages (from cffi>=1.0.1->argon2-cffi-bindings->argon2-cffi->notebook->jupyter->dsp-ml==0.1.5) (2.21)\n",
            "Building wheels for collected packages: dsp-ml\n",
            "  Building wheel for dsp-ml (setup.py) ... \u001b[?25l\u001b[?25hdone\n",
            "  Created wheel for dsp-ml: filename=dsp_ml-0.1.5-py3-none-any.whl size=37803 sha256=5efee867b5c72d13142b4ddc7aa95bf205f88ceea3424d90f5aa16ba3574f95b\n",
            "  Stored in directory: /tmp/pip-ephem-wheel-cache-c2qd7s6p/wheels/b9/cc/21/df1431394d64701ffb9d4a5a20afe701a19275c3090b73fd0e\n",
            "Successfully built dsp-ml\n",
            "Installing collected packages: dsp-ml\n",
            "Successfully installed dsp-ml-0.1.5\n"
          ]
        }
      ]
    },
    {
      "cell_type": "code",
      "source": [
        "!pip install faiss-cpu"
      ],
      "metadata": {
        "colab": {
          "base_uri": "https://localhost:8080/"
        },
        "id": "ELrrGSnhB31e",
        "outputId": "5557d02a-6245-40f7-f9bb-bcb27db89525"
      },
      "execution_count": null,
      "outputs": [
        {
          "output_type": "stream",
          "name": "stdout",
          "text": [
            "Looking in indexes: https://pypi.org/simple, https://us-python.pkg.dev/colab-wheels/public/simple/\n",
            "Collecting faiss-cpu\n",
            "  Using cached faiss_cpu-1.7.4-cp310-cp310-manylinux_2_17_x86_64.manylinux2014_x86_64.whl (17.6 MB)\n",
            "Installing collected packages: faiss-cpu\n",
            "Successfully installed faiss-cpu-1.7.4\n"
          ]
        }
      ]
    },
    {
      "cell_type": "code",
      "execution_count": null,
      "metadata": {
        "colab": {
          "base_uri": "https://localhost:8080/"
        },
        "id": "r2zd6Pf5Kpix",
        "outputId": "35a0eaa7-4621-4a87-fb5e-2854300efe48"
      },
      "outputs": [
        {
          "output_type": "stream",
          "name": "stdout",
          "text": [
            "Looking in indexes: https://pypi.org/simple, https://us-python.pkg.dev/colab-wheels/public/simple/\n",
            "Requirement already satisfied: editdistance in /usr/local/lib/python3.10/dist-packages (0.6.2)\n"
          ]
        }
      ],
      "source": [
        "!pip install editdistance"
      ]
    },
    {
      "cell_type": "code",
      "source": [
        "!pip install sentence-transformers"
      ],
      "metadata": {
        "colab": {
          "base_uri": "https://localhost:8080/"
        },
        "id": "ETULy9mExPZQ",
        "outputId": "af571bbe-c787-450f-f1c2-a3d920e7d35d"
      },
      "execution_count": null,
      "outputs": [
        {
          "output_type": "stream",
          "name": "stdout",
          "text": [
            "Looking in indexes: https://pypi.org/simple, https://us-python.pkg.dev/colab-wheels/public/simple/\n",
            "Collecting sentence-transformers\n",
            "  Using cached sentence-transformers-2.2.2.tar.gz (85 kB)\n",
            "  Preparing metadata (setup.py) ... \u001b[?25l\u001b[?25hdone\n",
            "Requirement already satisfied: transformers<5.0.0,>=4.6.0 in /usr/local/lib/python3.10/dist-packages (from sentence-transformers) (4.26.1)\n",
            "Requirement already satisfied: tqdm in /usr/local/lib/python3.10/dist-packages (from sentence-transformers) (4.65.0)\n",
            "Requirement already satisfied: torch>=1.6.0 in /usr/local/lib/python3.10/dist-packages (from sentence-transformers) (1.13.1)\n",
            "Requirement already satisfied: torchvision in /usr/local/lib/python3.10/dist-packages (from sentence-transformers) (0.14.1)\n",
            "Requirement already satisfied: numpy in /usr/local/lib/python3.10/dist-packages (from sentence-transformers) (1.22.4)\n",
            "Requirement already satisfied: scikit-learn in /usr/local/lib/python3.10/dist-packages (from sentence-transformers) (1.2.2)\n",
            "Requirement already satisfied: scipy in /usr/local/lib/python3.10/dist-packages (from sentence-transformers) (1.10.1)\n",
            "Requirement already satisfied: nltk in /usr/local/lib/python3.10/dist-packages (from sentence-transformers) (3.8.1)\n",
            "Collecting sentencepiece (from sentence-transformers)\n",
            "  Using cached sentencepiece-0.1.99-cp310-cp310-manylinux_2_17_x86_64.manylinux2014_x86_64.whl (1.3 MB)\n",
            "Requirement already satisfied: huggingface-hub>=0.4.0 in /usr/local/lib/python3.10/dist-packages (from sentence-transformers) (0.15.1)\n",
            "Requirement already satisfied: filelock in /usr/local/lib/python3.10/dist-packages (from huggingface-hub>=0.4.0->sentence-transformers) (3.12.0)\n",
            "Requirement already satisfied: fsspec in /usr/local/lib/python3.10/dist-packages (from huggingface-hub>=0.4.0->sentence-transformers) (2023.4.0)\n",
            "Requirement already satisfied: requests in /usr/local/lib/python3.10/dist-packages (from huggingface-hub>=0.4.0->sentence-transformers) (2.27.1)\n",
            "Requirement already satisfied: pyyaml>=5.1 in /usr/local/lib/python3.10/dist-packages (from huggingface-hub>=0.4.0->sentence-transformers) (6.0)\n",
            "Requirement already satisfied: typing-extensions>=3.7.4.3 in /usr/local/lib/python3.10/dist-packages (from huggingface-hub>=0.4.0->sentence-transformers) (4.5.0)\n",
            "Requirement already satisfied: packaging>=20.9 in /usr/local/lib/python3.10/dist-packages (from huggingface-hub>=0.4.0->sentence-transformers) (23.1)\n",
            "Requirement already satisfied: nvidia-cuda-runtime-cu11==11.7.99 in /usr/local/lib/python3.10/dist-packages (from torch>=1.6.0->sentence-transformers) (11.7.99)\n",
            "Requirement already satisfied: nvidia-cudnn-cu11==8.5.0.96 in /usr/local/lib/python3.10/dist-packages (from torch>=1.6.0->sentence-transformers) (8.5.0.96)\n",
            "Requirement already satisfied: nvidia-cublas-cu11==11.10.3.66 in /usr/local/lib/python3.10/dist-packages (from torch>=1.6.0->sentence-transformers) (11.10.3.66)\n",
            "Requirement already satisfied: nvidia-cuda-nvrtc-cu11==11.7.99 in /usr/local/lib/python3.10/dist-packages (from torch>=1.6.0->sentence-transformers) (11.7.99)\n",
            "Requirement already satisfied: setuptools in /usr/local/lib/python3.10/dist-packages (from nvidia-cublas-cu11==11.10.3.66->torch>=1.6.0->sentence-transformers) (67.7.2)\n",
            "Requirement already satisfied: wheel in /usr/local/lib/python3.10/dist-packages (from nvidia-cublas-cu11==11.10.3.66->torch>=1.6.0->sentence-transformers) (0.40.0)\n",
            "Requirement already satisfied: regex!=2019.12.17 in /usr/local/lib/python3.10/dist-packages (from transformers<5.0.0,>=4.6.0->sentence-transformers) (2022.10.31)\n",
            "Requirement already satisfied: tokenizers!=0.11.3,<0.14,>=0.11.1 in /usr/local/lib/python3.10/dist-packages (from transformers<5.0.0,>=4.6.0->sentence-transformers) (0.13.3)\n",
            "Requirement already satisfied: click in /usr/local/lib/python3.10/dist-packages (from nltk->sentence-transformers) (8.1.3)\n",
            "Requirement already satisfied: joblib in /usr/local/lib/python3.10/dist-packages (from nltk->sentence-transformers) (1.2.0)\n",
            "Requirement already satisfied: threadpoolctl>=2.0.0 in /usr/local/lib/python3.10/dist-packages (from scikit-learn->sentence-transformers) (3.1.0)\n",
            "Requirement already satisfied: pillow!=8.3.*,>=5.3.0 in /usr/local/lib/python3.10/dist-packages (from torchvision->sentence-transformers) (8.4.0)\n",
            "Requirement already satisfied: urllib3<1.27,>=1.21.1 in /usr/local/lib/python3.10/dist-packages (from requests->huggingface-hub>=0.4.0->sentence-transformers) (1.26.15)\n",
            "Requirement already satisfied: certifi>=2017.4.17 in /usr/local/lib/python3.10/dist-packages (from requests->huggingface-hub>=0.4.0->sentence-transformers) (2022.12.7)\n",
            "Requirement already satisfied: charset-normalizer~=2.0.0 in /usr/local/lib/python3.10/dist-packages (from requests->huggingface-hub>=0.4.0->sentence-transformers) (2.0.12)\n",
            "Requirement already satisfied: idna<4,>=2.5 in /usr/local/lib/python3.10/dist-packages (from requests->huggingface-hub>=0.4.0->sentence-transformers) (3.4)\n",
            "Building wheels for collected packages: sentence-transformers\n",
            "  Building wheel for sentence-transformers (setup.py) ... \u001b[?25l\u001b[?25hdone\n",
            "  Created wheel for sentence-transformers: filename=sentence_transformers-2.2.2-py3-none-any.whl size=125926 sha256=e979d6638afe1b215a1cd942fd02a4a300aa2da046d81ab23b5630e576eda694\n",
            "  Stored in directory: /root/.cache/pip/wheels/62/f2/10/1e606fd5f02395388f74e7462910fe851042f97238cbbd902f\n",
            "Successfully built sentence-transformers\n",
            "Installing collected packages: sentencepiece, sentence-transformers\n",
            "Successfully installed sentence-transformers-2.2.2 sentencepiece-0.1.99\n"
          ]
        }
      ]
    },
    {
      "cell_type": "code",
      "execution_count": null,
      "metadata": {
        "id": "TGsLUYGW4w00"
      },
      "outputs": [],
      "source": [
        "import cohere\n",
        "from datasets import load_dataset\n",
        "import openai\n",
        "import os\n",
        "import dsp\n",
        "import pandas as pd\n",
        "import editdistance"
      ]
    },
    {
      "cell_type": "code",
      "execution_count": null,
      "metadata": {
        "id": "G3js14ch45Co"
      },
      "outputs": [],
      "source": [
        "os.environ[\"DSP_NOTEBOOK_CACHEDIR\"] = os.path.join(root_path, 'cache')\n",
        "\n",
        "openai_key = '*****'"
      ]
    },
    {
      "cell_type": "code",
      "execution_count": null,
      "metadata": {
        "id": "J4wGB31U4_ly"
      },
      "outputs": [],
      "source": [
        "lm = dsp.GPT3(model = \"gpt-3.5-turbo\", api_key=openai_key, model_type=\"chat\")\n",
        "\n",
        "dsp.settings.configure(lm=lm)"
      ]
    },
    {
      "cell_type": "code",
      "execution_count": null,
      "metadata": {
        "id": "mtHA12NOCBNR",
        "colab": {
          "base_uri": "https://localhost:8080/",
          "height": 311
        },
        "outputId": "0405f9d6-2cf2-4de9-ce3c-a5b5888fcbc5"
      },
      "outputs": [
        {
          "output_type": "error",
          "ename": "FileNotFoundError",
          "evalue": "ignored",
          "traceback": [
            "\u001b[0;31m---------------------------------------------------------------------------\u001b[0m",
            "\u001b[0;31mFileNotFoundError\u001b[0m                         Traceback (most recent call last)",
            "\u001b[0;32m<ipython-input-18-868a1fd7b2ca>\u001b[0m in \u001b[0;36m<cell line: 1>\u001b[0;34m()\u001b[0m\n\u001b[0;32m----> 1\u001b[0;31m \u001b[0mtrain\u001b[0m \u001b[0;34m=\u001b[0m \u001b[0mpd\u001b[0m\u001b[0;34m.\u001b[0m\u001b[0mread_csv\u001b[0m\u001b[0;34m(\u001b[0m\u001b[0;34m'train.tsv'\u001b[0m\u001b[0;34m,\u001b[0m\u001b[0msep\u001b[0m\u001b[0;34m=\u001b[0m\u001b[0;34m'\\t'\u001b[0m\u001b[0;34m,\u001b[0m \u001b[0mnames\u001b[0m\u001b[0;34m=\u001b[0m\u001b[0;34m[\u001b[0m\u001b[0;34m'input'\u001b[0m\u001b[0;34m,\u001b[0m \u001b[0;34m'output'\u001b[0m\u001b[0;34m]\u001b[0m\u001b[0;34m)\u001b[0m\u001b[0;34m\u001b[0m\u001b[0;34m\u001b[0m\u001b[0m\n\u001b[0m",
            "\u001b[0;32m/usr/local/lib/python3.10/dist-packages/pandas/util/_decorators.py\u001b[0m in \u001b[0;36mwrapper\u001b[0;34m(*args, **kwargs)\u001b[0m\n\u001b[1;32m    209\u001b[0m                 \u001b[0;32melse\u001b[0m\u001b[0;34m:\u001b[0m\u001b[0;34m\u001b[0m\u001b[0;34m\u001b[0m\u001b[0m\n\u001b[1;32m    210\u001b[0m                     \u001b[0mkwargs\u001b[0m\u001b[0;34m[\u001b[0m\u001b[0mnew_arg_name\u001b[0m\u001b[0;34m]\u001b[0m \u001b[0;34m=\u001b[0m \u001b[0mnew_arg_value\u001b[0m\u001b[0;34m\u001b[0m\u001b[0;34m\u001b[0m\u001b[0m\n\u001b[0;32m--> 211\u001b[0;31m             \u001b[0;32mreturn\u001b[0m \u001b[0mfunc\u001b[0m\u001b[0;34m(\u001b[0m\u001b[0;34m*\u001b[0m\u001b[0margs\u001b[0m\u001b[0;34m,\u001b[0m \u001b[0;34m**\u001b[0m\u001b[0mkwargs\u001b[0m\u001b[0;34m)\u001b[0m\u001b[0;34m\u001b[0m\u001b[0;34m\u001b[0m\u001b[0m\n\u001b[0m\u001b[1;32m    212\u001b[0m \u001b[0;34m\u001b[0m\u001b[0m\n\u001b[1;32m    213\u001b[0m         \u001b[0;32mreturn\u001b[0m \u001b[0mcast\u001b[0m\u001b[0;34m(\u001b[0m\u001b[0mF\u001b[0m\u001b[0;34m,\u001b[0m \u001b[0mwrapper\u001b[0m\u001b[0;34m)\u001b[0m\u001b[0;34m\u001b[0m\u001b[0;34m\u001b[0m\u001b[0m\n",
            "\u001b[0;32m/usr/local/lib/python3.10/dist-packages/pandas/util/_decorators.py\u001b[0m in \u001b[0;36mwrapper\u001b[0;34m(*args, **kwargs)\u001b[0m\n\u001b[1;32m    329\u001b[0m                     \u001b[0mstacklevel\u001b[0m\u001b[0;34m=\u001b[0m\u001b[0mfind_stack_level\u001b[0m\u001b[0;34m(\u001b[0m\u001b[0;34m)\u001b[0m\u001b[0;34m,\u001b[0m\u001b[0;34m\u001b[0m\u001b[0;34m\u001b[0m\u001b[0m\n\u001b[1;32m    330\u001b[0m                 )\n\u001b[0;32m--> 331\u001b[0;31m             \u001b[0;32mreturn\u001b[0m \u001b[0mfunc\u001b[0m\u001b[0;34m(\u001b[0m\u001b[0;34m*\u001b[0m\u001b[0margs\u001b[0m\u001b[0;34m,\u001b[0m \u001b[0;34m**\u001b[0m\u001b[0mkwargs\u001b[0m\u001b[0;34m)\u001b[0m\u001b[0;34m\u001b[0m\u001b[0;34m\u001b[0m\u001b[0m\n\u001b[0m\u001b[1;32m    332\u001b[0m \u001b[0;34m\u001b[0m\u001b[0m\n\u001b[1;32m    333\u001b[0m         \u001b[0;31m# error: \"Callable[[VarArg(Any), KwArg(Any)], Any]\" has no\u001b[0m\u001b[0;34m\u001b[0m\u001b[0;34m\u001b[0m\u001b[0m\n",
            "\u001b[0;32m/usr/local/lib/python3.10/dist-packages/pandas/io/parsers/readers.py\u001b[0m in \u001b[0;36mread_csv\u001b[0;34m(filepath_or_buffer, sep, delimiter, header, names, index_col, usecols, squeeze, prefix, mangle_dupe_cols, dtype, engine, converters, true_values, false_values, skipinitialspace, skiprows, skipfooter, nrows, na_values, keep_default_na, na_filter, verbose, skip_blank_lines, parse_dates, infer_datetime_format, keep_date_col, date_parser, dayfirst, cache_dates, iterator, chunksize, compression, thousands, decimal, lineterminator, quotechar, quoting, doublequote, escapechar, comment, encoding, encoding_errors, dialect, error_bad_lines, warn_bad_lines, on_bad_lines, delim_whitespace, low_memory, memory_map, float_precision, storage_options)\u001b[0m\n\u001b[1;32m    948\u001b[0m     \u001b[0mkwds\u001b[0m\u001b[0;34m.\u001b[0m\u001b[0mupdate\u001b[0m\u001b[0;34m(\u001b[0m\u001b[0mkwds_defaults\u001b[0m\u001b[0;34m)\u001b[0m\u001b[0;34m\u001b[0m\u001b[0;34m\u001b[0m\u001b[0m\n\u001b[1;32m    949\u001b[0m \u001b[0;34m\u001b[0m\u001b[0m\n\u001b[0;32m--> 950\u001b[0;31m     \u001b[0;32mreturn\u001b[0m \u001b[0m_read\u001b[0m\u001b[0;34m(\u001b[0m\u001b[0mfilepath_or_buffer\u001b[0m\u001b[0;34m,\u001b[0m \u001b[0mkwds\u001b[0m\u001b[0;34m)\u001b[0m\u001b[0;34m\u001b[0m\u001b[0;34m\u001b[0m\u001b[0m\n\u001b[0m\u001b[1;32m    951\u001b[0m \u001b[0;34m\u001b[0m\u001b[0m\n\u001b[1;32m    952\u001b[0m \u001b[0;34m\u001b[0m\u001b[0m\n",
            "\u001b[0;32m/usr/local/lib/python3.10/dist-packages/pandas/io/parsers/readers.py\u001b[0m in \u001b[0;36m_read\u001b[0;34m(filepath_or_buffer, kwds)\u001b[0m\n\u001b[1;32m    603\u001b[0m \u001b[0;34m\u001b[0m\u001b[0m\n\u001b[1;32m    604\u001b[0m     \u001b[0;31m# Create the parser.\u001b[0m\u001b[0;34m\u001b[0m\u001b[0;34m\u001b[0m\u001b[0m\n\u001b[0;32m--> 605\u001b[0;31m     \u001b[0mparser\u001b[0m \u001b[0;34m=\u001b[0m \u001b[0mTextFileReader\u001b[0m\u001b[0;34m(\u001b[0m\u001b[0mfilepath_or_buffer\u001b[0m\u001b[0;34m,\u001b[0m \u001b[0;34m**\u001b[0m\u001b[0mkwds\u001b[0m\u001b[0;34m)\u001b[0m\u001b[0;34m\u001b[0m\u001b[0;34m\u001b[0m\u001b[0m\n\u001b[0m\u001b[1;32m    606\u001b[0m \u001b[0;34m\u001b[0m\u001b[0m\n\u001b[1;32m    607\u001b[0m     \u001b[0;32mif\u001b[0m \u001b[0mchunksize\u001b[0m \u001b[0;32mor\u001b[0m \u001b[0miterator\u001b[0m\u001b[0;34m:\u001b[0m\u001b[0;34m\u001b[0m\u001b[0;34m\u001b[0m\u001b[0m\n",
            "\u001b[0;32m/usr/local/lib/python3.10/dist-packages/pandas/io/parsers/readers.py\u001b[0m in \u001b[0;36m__init__\u001b[0;34m(self, f, engine, **kwds)\u001b[0m\n\u001b[1;32m   1440\u001b[0m \u001b[0;34m\u001b[0m\u001b[0m\n\u001b[1;32m   1441\u001b[0m         \u001b[0mself\u001b[0m\u001b[0;34m.\u001b[0m\u001b[0mhandles\u001b[0m\u001b[0;34m:\u001b[0m \u001b[0mIOHandles\u001b[0m \u001b[0;34m|\u001b[0m \u001b[0;32mNone\u001b[0m \u001b[0;34m=\u001b[0m \u001b[0;32mNone\u001b[0m\u001b[0;34m\u001b[0m\u001b[0;34m\u001b[0m\u001b[0m\n\u001b[0;32m-> 1442\u001b[0;31m         \u001b[0mself\u001b[0m\u001b[0;34m.\u001b[0m\u001b[0m_engine\u001b[0m \u001b[0;34m=\u001b[0m \u001b[0mself\u001b[0m\u001b[0;34m.\u001b[0m\u001b[0m_make_engine\u001b[0m\u001b[0;34m(\u001b[0m\u001b[0mf\u001b[0m\u001b[0;34m,\u001b[0m \u001b[0mself\u001b[0m\u001b[0;34m.\u001b[0m\u001b[0mengine\u001b[0m\u001b[0;34m)\u001b[0m\u001b[0;34m\u001b[0m\u001b[0;34m\u001b[0m\u001b[0m\n\u001b[0m\u001b[1;32m   1443\u001b[0m \u001b[0;34m\u001b[0m\u001b[0m\n\u001b[1;32m   1444\u001b[0m     \u001b[0;32mdef\u001b[0m \u001b[0mclose\u001b[0m\u001b[0;34m(\u001b[0m\u001b[0mself\u001b[0m\u001b[0;34m)\u001b[0m \u001b[0;34m->\u001b[0m \u001b[0;32mNone\u001b[0m\u001b[0;34m:\u001b[0m\u001b[0;34m\u001b[0m\u001b[0;34m\u001b[0m\u001b[0m\n",
            "\u001b[0;32m/usr/local/lib/python3.10/dist-packages/pandas/io/parsers/readers.py\u001b[0m in \u001b[0;36m_make_engine\u001b[0;34m(self, f, engine)\u001b[0m\n\u001b[1;32m   1733\u001b[0m                 \u001b[0;32mif\u001b[0m \u001b[0;34m\"b\"\u001b[0m \u001b[0;32mnot\u001b[0m \u001b[0;32min\u001b[0m \u001b[0mmode\u001b[0m\u001b[0;34m:\u001b[0m\u001b[0;34m\u001b[0m\u001b[0;34m\u001b[0m\u001b[0m\n\u001b[1;32m   1734\u001b[0m                     \u001b[0mmode\u001b[0m \u001b[0;34m+=\u001b[0m \u001b[0;34m\"b\"\u001b[0m\u001b[0;34m\u001b[0m\u001b[0;34m\u001b[0m\u001b[0m\n\u001b[0;32m-> 1735\u001b[0;31m             self.handles = get_handle(\n\u001b[0m\u001b[1;32m   1736\u001b[0m                 \u001b[0mf\u001b[0m\u001b[0;34m,\u001b[0m\u001b[0;34m\u001b[0m\u001b[0;34m\u001b[0m\u001b[0m\n\u001b[1;32m   1737\u001b[0m                 \u001b[0mmode\u001b[0m\u001b[0;34m,\u001b[0m\u001b[0;34m\u001b[0m\u001b[0;34m\u001b[0m\u001b[0m\n",
            "\u001b[0;32m/usr/local/lib/python3.10/dist-packages/pandas/io/common.py\u001b[0m in \u001b[0;36mget_handle\u001b[0;34m(path_or_buf, mode, encoding, compression, memory_map, is_text, errors, storage_options)\u001b[0m\n\u001b[1;32m    854\u001b[0m         \u001b[0;32mif\u001b[0m \u001b[0mioargs\u001b[0m\u001b[0;34m.\u001b[0m\u001b[0mencoding\u001b[0m \u001b[0;32mand\u001b[0m \u001b[0;34m\"b\"\u001b[0m \u001b[0;32mnot\u001b[0m \u001b[0;32min\u001b[0m \u001b[0mioargs\u001b[0m\u001b[0;34m.\u001b[0m\u001b[0mmode\u001b[0m\u001b[0;34m:\u001b[0m\u001b[0;34m\u001b[0m\u001b[0;34m\u001b[0m\u001b[0m\n\u001b[1;32m    855\u001b[0m             \u001b[0;31m# Encoding\u001b[0m\u001b[0;34m\u001b[0m\u001b[0;34m\u001b[0m\u001b[0m\n\u001b[0;32m--> 856\u001b[0;31m             handle = open(\n\u001b[0m\u001b[1;32m    857\u001b[0m                 \u001b[0mhandle\u001b[0m\u001b[0;34m,\u001b[0m\u001b[0;34m\u001b[0m\u001b[0;34m\u001b[0m\u001b[0m\n\u001b[1;32m    858\u001b[0m                 \u001b[0mioargs\u001b[0m\u001b[0;34m.\u001b[0m\u001b[0mmode\u001b[0m\u001b[0;34m,\u001b[0m\u001b[0;34m\u001b[0m\u001b[0;34m\u001b[0m\u001b[0m\n",
            "\u001b[0;31mFileNotFoundError\u001b[0m: [Errno 2] No such file or directory: 'train.tsv'"
          ]
        }
      ],
      "source": [
        "train = pd.read_csv('train.tsv',sep='\\t', names=['input', 'output'])"
      ]
    },
    {
      "cell_type": "code",
      "execution_count": null,
      "metadata": {
        "id": "zyATESVvCm9P"
      },
      "outputs": [],
      "source": [
        "train_dsp = [dsp.Example(input=row['input'], output=row['output'])\n",
        "                    for _, row in train.iterrows()]"
      ]
    },
    {
      "cell_type": "code",
      "execution_count": null,
      "metadata": {
        "id": "3Hy8ftl7Za6-"
      },
      "outputs": [],
      "source": [
        "import pandas as pd\n",
        "test = pd.read_csv('test.tsv',sep='\\t', names=['input', 'output'])"
      ]
    },
    {
      "cell_type": "code",
      "source": [
        "indices = [i for i, ti in enumerate(test['input']) if len(ti)<=300][:250]\n",
        "test_short = test.iloc[indices].reset_index()"
      ],
      "metadata": {
        "id": "x_4EJ3yWdTSU"
      },
      "execution_count": null,
      "outputs": []
    },
    {
      "cell_type": "code",
      "source": [
        "test_short"
      ],
      "metadata": {
        "colab": {
          "base_uri": "https://localhost:8080/",
          "height": 424
        },
        "id": "4Cdr0IrXhzEB",
        "outputId": "192fd899-7031-44f4-9314-d86f655f172b"
      },
      "execution_count": null,
      "outputs": [
        {
          "output_type": "execute_result",
          "data": {
            "text/plain": [
              "     index                                              input  \\\n",
              "0        2  public Request iterate(final Request req, fina...   \n",
              "1        4  public static <T> TypeToken<T> getTypeToken(Ty...   \n",
              "2        5  private void initPlugins() throws Exception { ...   \n",
              "3       15  protected Properties getIntegrationProperties(...   \n",
              "4       16  public void testShowStatsSelectNonStarFails() ...   \n",
              "..     ...                                                ...   \n",
              "245    970  public CompilePanel(CompileOutputDisplay outpu...   \n",
              "246    972  public void init(IActionBars bars, IWorkbenchP...   \n",
              "247    974  public ServerPermission(String name, String ac...   \n",
              "248    975  public FunctionImplementationType getFunctionI...   \n",
              "249    976  public Boolean getSabbatical() { return _sabba...   \n",
              "\n",
              "                                                output  \n",
              "0    public Request iterate(final Request req, fina...  \n",
              "1    public static <T> TypeToken<T> getTypeToken(Ty...  \n",
              "2    private void initPlugins() throws Exception { ...  \n",
              "3    protected Properties getIntegrationProperties(...  \n",
              "4    public void testShowStatsSelectNonStarFails() ...  \n",
              "..                                                 ...  \n",
              "245  public CompilePanel(CompileOutputDisplay outpu...  \n",
              "246  public void init(IActionBars bars, IWorkbenchP...  \n",
              "247  public ServerPermission(String name, String ac...  \n",
              "248  public FunctionImplementationType getFunctionI...  \n",
              "249  public boolean getSabbatical() { return _sabba...  \n",
              "\n",
              "[250 rows x 3 columns]"
            ],
            "text/html": [
              "\n",
              "  <div id=\"df-c7d5509c-17f4-4e1e-adb2-1f02150696a6\">\n",
              "    <div class=\"colab-df-container\">\n",
              "      <div>\n",
              "<style scoped>\n",
              "    .dataframe tbody tr th:only-of-type {\n",
              "        vertical-align: middle;\n",
              "    }\n",
              "\n",
              "    .dataframe tbody tr th {\n",
              "        vertical-align: top;\n",
              "    }\n",
              "\n",
              "    .dataframe thead th {\n",
              "        text-align: right;\n",
              "    }\n",
              "</style>\n",
              "<table border=\"1\" class=\"dataframe\">\n",
              "  <thead>\n",
              "    <tr style=\"text-align: right;\">\n",
              "      <th></th>\n",
              "      <th>index</th>\n",
              "      <th>input</th>\n",
              "      <th>output</th>\n",
              "    </tr>\n",
              "  </thead>\n",
              "  <tbody>\n",
              "    <tr>\n",
              "      <th>0</th>\n",
              "      <td>2</td>\n",
              "      <td>public Request iterate(final Request req, fina...</td>\n",
              "      <td>public Request iterate(final Request req, fina...</td>\n",
              "    </tr>\n",
              "    <tr>\n",
              "      <th>1</th>\n",
              "      <td>4</td>\n",
              "      <td>public static &lt;T&gt; TypeToken&lt;T&gt; getTypeToken(Ty...</td>\n",
              "      <td>public static &lt;T&gt; TypeToken&lt;T&gt; getTypeToken(Ty...</td>\n",
              "    </tr>\n",
              "    <tr>\n",
              "      <th>2</th>\n",
              "      <td>5</td>\n",
              "      <td>private void initPlugins() throws Exception { ...</td>\n",
              "      <td>private void initPlugins() throws Exception { ...</td>\n",
              "    </tr>\n",
              "    <tr>\n",
              "      <th>3</th>\n",
              "      <td>15</td>\n",
              "      <td>protected Properties getIntegrationProperties(...</td>\n",
              "      <td>protected Properties getIntegrationProperties(...</td>\n",
              "    </tr>\n",
              "    <tr>\n",
              "      <th>4</th>\n",
              "      <td>16</td>\n",
              "      <td>public void testShowStatsSelectNonStarFails() ...</td>\n",
              "      <td>public void testShowStatsSelectNonStarFails() ...</td>\n",
              "    </tr>\n",
              "    <tr>\n",
              "      <th>...</th>\n",
              "      <td>...</td>\n",
              "      <td>...</td>\n",
              "      <td>...</td>\n",
              "    </tr>\n",
              "    <tr>\n",
              "      <th>245</th>\n",
              "      <td>970</td>\n",
              "      <td>public CompilePanel(CompileOutputDisplay outpu...</td>\n",
              "      <td>public CompilePanel(CompileOutputDisplay outpu...</td>\n",
              "    </tr>\n",
              "    <tr>\n",
              "      <th>246</th>\n",
              "      <td>972</td>\n",
              "      <td>public void init(IActionBars bars, IWorkbenchP...</td>\n",
              "      <td>public void init(IActionBars bars, IWorkbenchP...</td>\n",
              "    </tr>\n",
              "    <tr>\n",
              "      <th>247</th>\n",
              "      <td>974</td>\n",
              "      <td>public ServerPermission(String name, String ac...</td>\n",
              "      <td>public ServerPermission(String name, String ac...</td>\n",
              "    </tr>\n",
              "    <tr>\n",
              "      <th>248</th>\n",
              "      <td>975</td>\n",
              "      <td>public FunctionImplementationType getFunctionI...</td>\n",
              "      <td>public FunctionImplementationType getFunctionI...</td>\n",
              "    </tr>\n",
              "    <tr>\n",
              "      <th>249</th>\n",
              "      <td>976</td>\n",
              "      <td>public Boolean getSabbatical() { return _sabba...</td>\n",
              "      <td>public boolean getSabbatical() { return _sabba...</td>\n",
              "    </tr>\n",
              "  </tbody>\n",
              "</table>\n",
              "<p>250 rows × 3 columns</p>\n",
              "</div>\n",
              "      <button class=\"colab-df-convert\" onclick=\"convertToInteractive('df-c7d5509c-17f4-4e1e-adb2-1f02150696a6')\"\n",
              "              title=\"Convert this dataframe to an interactive table.\"\n",
              "              style=\"display:none;\">\n",
              "        \n",
              "  <svg xmlns=\"http://www.w3.org/2000/svg\" height=\"24px\"viewBox=\"0 0 24 24\"\n",
              "       width=\"24px\">\n",
              "    <path d=\"M0 0h24v24H0V0z\" fill=\"none\"/>\n",
              "    <path d=\"M18.56 5.44l.94 2.06.94-2.06 2.06-.94-2.06-.94-.94-2.06-.94 2.06-2.06.94zm-11 1L8.5 8.5l.94-2.06 2.06-.94-2.06-.94L8.5 2.5l-.94 2.06-2.06.94zm10 10l.94 2.06.94-2.06 2.06-.94-2.06-.94-.94-2.06-.94 2.06-2.06.94z\"/><path d=\"M17.41 7.96l-1.37-1.37c-.4-.4-.92-.59-1.43-.59-.52 0-1.04.2-1.43.59L10.3 9.45l-7.72 7.72c-.78.78-.78 2.05 0 2.83L4 21.41c.39.39.9.59 1.41.59.51 0 1.02-.2 1.41-.59l7.78-7.78 2.81-2.81c.8-.78.8-2.07 0-2.86zM5.41 20L4 18.59l7.72-7.72 1.47 1.35L5.41 20z\"/>\n",
              "  </svg>\n",
              "      </button>\n",
              "      \n",
              "  <style>\n",
              "    .colab-df-container {\n",
              "      display:flex;\n",
              "      flex-wrap:wrap;\n",
              "      gap: 12px;\n",
              "    }\n",
              "\n",
              "    .colab-df-convert {\n",
              "      background-color: #E8F0FE;\n",
              "      border: none;\n",
              "      border-radius: 50%;\n",
              "      cursor: pointer;\n",
              "      display: none;\n",
              "      fill: #1967D2;\n",
              "      height: 32px;\n",
              "      padding: 0 0 0 0;\n",
              "      width: 32px;\n",
              "    }\n",
              "\n",
              "    .colab-df-convert:hover {\n",
              "      background-color: #E2EBFA;\n",
              "      box-shadow: 0px 1px 2px rgba(60, 64, 67, 0.3), 0px 1px 3px 1px rgba(60, 64, 67, 0.15);\n",
              "      fill: #174EA6;\n",
              "    }\n",
              "\n",
              "    [theme=dark] .colab-df-convert {\n",
              "      background-color: #3B4455;\n",
              "      fill: #D2E3FC;\n",
              "    }\n",
              "\n",
              "    [theme=dark] .colab-df-convert:hover {\n",
              "      background-color: #434B5C;\n",
              "      box-shadow: 0px 1px 3px 1px rgba(0, 0, 0, 0.15);\n",
              "      filter: drop-shadow(0px 1px 2px rgba(0, 0, 0, 0.3));\n",
              "      fill: #FFFFFF;\n",
              "    }\n",
              "  </style>\n",
              "\n",
              "      <script>\n",
              "        const buttonEl =\n",
              "          document.querySelector('#df-c7d5509c-17f4-4e1e-adb2-1f02150696a6 button.colab-df-convert');\n",
              "        buttonEl.style.display =\n",
              "          google.colab.kernel.accessAllowed ? 'block' : 'none';\n",
              "\n",
              "        async function convertToInteractive(key) {\n",
              "          const element = document.querySelector('#df-c7d5509c-17f4-4e1e-adb2-1f02150696a6');\n",
              "          const dataTable =\n",
              "            await google.colab.kernel.invokeFunction('convertToInteractive',\n",
              "                                                     [key], {});\n",
              "          if (!dataTable) return;\n",
              "\n",
              "          const docLinkHtml = 'Like what you see? Visit the ' +\n",
              "            '<a target=\"_blank\" href=https://colab.research.google.com/notebooks/data_table.ipynb>data table notebook</a>'\n",
              "            + ' to learn more about interactive tables.';\n",
              "          element.innerHTML = '';\n",
              "          dataTable['output_type'] = 'display_data';\n",
              "          await google.colab.output.renderOutput(dataTable, element);\n",
              "          const docLink = document.createElement('div');\n",
              "          docLink.innerHTML = docLinkHtml;\n",
              "          element.appendChild(docLink);\n",
              "        }\n",
              "      </script>\n",
              "    </div>\n",
              "  </div>\n",
              "  "
            ]
          },
          "metadata": {},
          "execution_count": 21
        }
      ]
    },
    {
      "cell_type": "markdown",
      "metadata": {
        "id": "NWJ2ajGrDkHy"
      },
      "source": [
        "# Zero Shot"
      ]
    },
    {
      "cell_type": "code",
      "execution_count": null,
      "metadata": {
        "id": "uzLfObraDn0Y"
      },
      "outputs": [],
      "source": [
        "num = 3\n",
        "temperature = 0.5\n",
        "Input = dsp.Type(\n",
        "    prefix=\"Input:\",\n",
        "    desc=\"${the code to be revised}\")\n",
        "\n",
        "Output = dsp.Type(\n",
        "    prefix=\"Output:\",\n",
        "    desc=\"${the revised code}\",\n",
        "    format=dsp.format_answers)\n",
        "\n",
        "zero_shot_template = dsp.Template(\n",
        "    instructions=\"Revise the code to have better coding style by renaming, removing redundancy, safety checking, etc. Don't include any comments.\",\n",
        "    input=Input(),\n",
        "    output=Output())\n"
      ]
    },
    {
      "cell_type": "code",
      "execution_count": null,
      "metadata": {
        "id": "8qsS83EFVOmS"
      },
      "outputs": [],
      "source": [
        "def calc_dist(i, completions, f=None):\n",
        "  dist = 0\n",
        "  same = False\n",
        "  if f:\n",
        "    f.write(str(len(completions.data)) + '\\n')\n",
        "  for ind in completions.data:\n",
        "    if f:\n",
        "      f.write(ind.output.replace('\\n', ''))\n",
        "      f.write('\\n')\n",
        "    tmp1 = ''.join(ind.output.strip().split())\n",
        "    tmp2 = ''.join(test['output'][i].strip().split())\n",
        "    d = editdistance.eval(tmp1, tmp2) / len(tmp2)\n",
        "    dist += d\n",
        "    if d == 0:\n",
        "      same = True\n",
        "  return (dist / num), same"
      ]
    },
    {
      "cell_type": "code",
      "execution_count": null,
      "metadata": {
        "id": "zFsnvlxhZqKo",
        "colab": {
          "base_uri": "https://localhost:8080/"
        },
        "outputId": "38698495-8b4f-4453-ec49-8ffb3c1fcf80"
      },
      "outputs": [
        {
          "output_type": "stream",
          "name": "stdout",
          "text": [
            "0\n",
            "10\n",
            "20\n",
            "30\n",
            "40\n",
            "50\n",
            "60\n",
            "70\n",
            "80\n",
            "90\n",
            "100\n",
            "110\n",
            "120\n",
            "130\n",
            "140\n",
            "150\n",
            "160\n",
            "170\n",
            "180\n",
            "190\n",
            "200\n",
            "210\n",
            "220\n",
            "230\n",
            "240\n"
          ]
        }
      ],
      "source": [
        "with open('zero_shot_results.txt', 'w') as f:\n",
        "  num_test = 250\n",
        "\n",
        "  for i in range(num_test):\n",
        "    if i % 10 == 0:\n",
        "      print(i)\n",
        "    ex = dsp.Example(input=test_short['input'][i], demos=[])\n",
        "    ex, completions = dsp.generate(zero_shot_template, n=1, temperature=temperature)(ex, stage='qa')\n",
        "    _, _ = calc_dist(i, completions, f)"
      ]
    },
    {
      "cell_type": "markdown",
      "source": [
        "# Few Shot"
      ],
      "metadata": {
        "id": "yBygQZzb1Cfy"
      }
    },
    {
      "cell_type": "code",
      "source": [
        "num = 3\n",
        "temperature = 0.5\n",
        "Input = dsp.Type(\n",
        "    prefix=\"Input:\",\n",
        "    desc=\"${the code to be revised}\")\n",
        "\n",
        "Output = dsp.Type(\n",
        "    prefix=\"Output:\",\n",
        "    desc=\"${the revised code}\",\n",
        "    format=dsp.format_answers)\n",
        "\n",
        "Rationale = dsp.Type(\n",
        "    prefix=\"Rationale:\",\n",
        "    desc=\"${the problems in the provided code}\"\n",
        ")\n",
        "\n",
        "few_shot_template = dsp.Template(\n",
        "    instructions=\"Revise the code to have better coding style by renaming, removing redundancy, safety checking, etc. Don't include any comments.\",\n",
        "    input=Input(),\n",
        "    output=Output())\n"
      ],
      "metadata": {
        "id": "2W7dGf6A2O2u"
      },
      "execution_count": null,
      "outputs": []
    },
    {
      "cell_type": "code",
      "source": [
        "with open('few_shot_results.txt', 'w') as f:\n",
        "  num_test = 250\n",
        "  num_demos = 3\n",
        "  for i in range(num_test):\n",
        "    if i % 10 == 0:\n",
        "      print(i)\n",
        "    ex = dsp.Example(input=test_short['input'][i], demos=dsp.sample(train_dsp, k=num_demos))\n",
        "    ex, completions = dsp.generate(few_shot_template, n=1, temperature=temperature)(ex, stage='qa')\n",
        "    dist, same = calc_dist(i, completions, f)"
      ],
      "metadata": {
        "id": "L_yg7r1c5S7j",
        "colab": {
          "base_uri": "https://localhost:8080/"
        },
        "outputId": "57bceb00-c666-48f1-852f-8daf462c0b61"
      },
      "execution_count": null,
      "outputs": [
        {
          "output_type": "stream",
          "name": "stdout",
          "text": [
            "0\n",
            "10\n",
            "20\n",
            "30\n",
            "40\n",
            "50\n",
            "60\n",
            "70\n",
            "80\n",
            "90\n",
            "100\n",
            "110\n",
            "120\n",
            "130\n",
            "140\n",
            "150\n",
            "160\n",
            "170\n",
            "180\n",
            "190\n",
            "200\n",
            "210\n",
            "220\n",
            "230\n",
            "240\n"
          ]
        }
      ]
    },
    {
      "cell_type": "markdown",
      "source": [
        "# KNN"
      ],
      "metadata": {
        "id": "BLfySvcwA61b"
      }
    },
    {
      "cell_type": "code",
      "source": [
        "import random\n",
        "from typing import Callable, Any\n",
        "import numpy as np\n",
        "import dsp\n",
        "from dsp.utils import EM, F1, DPR_normalize, dotdict, has_answer, normalize_text\n",
        "from dsp.utils.ann_utils import create_faiss_index\n",
        "from faiss import write_index,read_index\n",
        "\n",
        "@dsp.transformation\n",
        "def custom_knn(train, cast):\n",
        "    train_casted_to_vectorize = [cast(cur_elem) for cur_elem in train]\n",
        "\n",
        "    vectorizer = dsp.settings.vectorizer\n",
        "    all_vectors = vectorizer(train_casted_to_vectorize).astype(np.float32)\n",
        "\n",
        "    index = create_faiss_index(\n",
        "        emb_dim=all_vectors.shape[1], n_objects=len(train)\n",
        "    )\n",
        "    index.train(all_vectors)\n",
        "    index.add(all_vectors)\n",
        "    return vectorizer, index\n",
        "\n",
        "@dsp.transformation\n",
        "def knn_search(inp_example: dsp.Example, train, cast, vectorizer, index, k: int) -> list[dsp.Example]:\n",
        "    inp_example_vector = vectorizer([cast(inp_example)])\n",
        "    _, nearest_samples_idxs = index.search(inp_example_vector, k)\n",
        "    train_sampled = [train[cur_idx] for cur_idx in nearest_samples_idxs[0]]\n",
        "    return train_sampled"
      ],
      "metadata": {
        "id": "c5fOHJKmA8Pu"
      },
      "execution_count": null,
      "outputs": []
    },
    {
      "cell_type": "code",
      "source": [
        "index = read_index(\"knn.index\")"
      ],
      "metadata": {
        "id": "zbvhvL5Gwqcz"
      },
      "execution_count": null,
      "outputs": []
    },
    {
      "cell_type": "code",
      "source": [
        "def cast_naive_get_only_code(inp_example: dsp.Example) -> dsp.Example:\n",
        "    return inp_example.copy(text_to_vectorize=inp_example.input)\n",
        "\n",
        "# create knn index for our training set\n",
        "dsp.settings.configure(vectorizer=dsp.SentenceTransformersVectorizer())\n",
        "vectorizer = dsp.settings.vectorizer"
      ],
      "metadata": {
        "id": "L0X1Zro2wOZi"
      },
      "execution_count": null,
      "outputs": []
    },
    {
      "cell_type": "code",
      "source": [
        "with open('knn_results.txt', 'w') as f:\n",
        "  num_test = 250\n",
        "  num_demos = 3\n",
        "  for i in range(num_test):\n",
        "    if i % 10 == 0:\n",
        "      print(i)\n",
        "    ex = dsp.Example(input=test_short['input'][i], demos=[])\n",
        "    demos = knn_search(ex, train_dsp, cast_naive_get_only_code, vectorizer, index, k=num_demos)\n",
        "    ex.demos = demos\n",
        "    ex, completions = dsp.generate(few_shot_template, n=1, temperature=temperature)(ex, stage='qa')\n",
        "    _, _ = calc_dist(i, completions, f)\n"
      ],
      "metadata": {
        "colab": {
          "base_uri": "https://localhost:8080/"
        },
        "id": "HM896Wh3yW0z",
        "outputId": "41a7d303-83ee-486d-8188-7497f2a36887"
      },
      "execution_count": null,
      "outputs": [
        {
          "output_type": "stream",
          "name": "stdout",
          "text": [
            "0\n",
            "10\n",
            "20\n",
            "30\n",
            "40\n",
            "50\n",
            "60\n",
            "70\n",
            "80\n",
            "90\n",
            "100\n",
            "110\n",
            "120\n",
            "130\n",
            "140\n",
            "150\n",
            "160\n",
            "170\n",
            "180\n",
            "190\n",
            "200\n",
            "210\n",
            "220\n",
            "230\n",
            "240\n"
          ]
        }
      ]
    },
    {
      "cell_type": "markdown",
      "source": [
        "# CoT"
      ],
      "metadata": {
        "id": "DtVwkEF8oRmB"
      }
    },
    {
      "cell_type": "code",
      "source": [
        "num = 1\n",
        "temperature = 0.5\n",
        "Input = dsp.Type(\n",
        "    prefix=\"Input:\",\n",
        "    desc=\"${the code to be revised}\")\n",
        "\n",
        "Output = dsp.Type(\n",
        "    prefix=\"Output:\",\n",
        "    desc=\"${the revised code}\",\n",
        "    format=dsp.format_answers)\n",
        "\n",
        "Rationale = dsp.Type(\n",
        "    prefix=\"Rationale:\",\n",
        "    desc=\"${the problems in the provided code}\"\n",
        ")\n",
        "\n",
        "cot_template = dsp.Template(\n",
        "    instructions=\"Revise the code to have better coding style by renaming, removing redundancy, safety checking, etc. Don't include any comments.\",\n",
        "    input=Input(),\n",
        "    rationale=Rationale(),\n",
        "    output=Output())"
      ],
      "metadata": {
        "id": "ASRszyJUoUsO"
      },
      "execution_count": null,
      "outputs": []
    },
    {
      "cell_type": "code",
      "source": [
        "def calc_dist(i, completions, f=None):\n",
        "  dist = 0\n",
        "  same = False\n",
        "  if f:\n",
        "    f.write(str(len(completions.data)) + '\\n')\n",
        "  for ind in completions.data:\n",
        "    if f:\n",
        "      f.write(ind.output.replace('\\n', ''))\n",
        "      f.write('\\n')\n",
        "    tmp1 = ''.join(ind.output.strip().split())\n",
        "    tmp2 = ''.join(test_short['output'][i].strip().split())\n",
        "    d = editdistance.eval(tmp1, tmp2) / len(tmp2)\n",
        "    dist += d\n",
        "    if d == 0:\n",
        "      same = True\n",
        "  return (dist / num), same"
      ],
      "metadata": {
        "id": "zFDU0kTVQCmW"
      },
      "execution_count": null,
      "outputs": []
    },
    {
      "cell_type": "code",
      "source": [
        "with open('cot_results_no_rat.txt', 'w') as f:\n",
        "  num_test = 250\n",
        "  num_demos = 3\n",
        "  for i in range(num_test):\n",
        "    if i % 10 == 0:\n",
        "      print(i)\n",
        "    ex = dsp.Example(input=test_short['input'][i], demos=[])\n",
        "    demos = knn_search(ex, train_dsp, cast_naive_get_only_code, vectorizer, index, k=num_demos)\n",
        "    ex.demos = demos\n",
        "    ex, completions = dsp.generate(cot_template, n=1, temperature=temperature)(ex, stage='qa')\n",
        "    _, _ = calc_dist(i, completions, f)"
      ],
      "metadata": {
        "colab": {
          "base_uri": "https://localhost:8080/"
        },
        "id": "CPVIFtm310PO",
        "outputId": "b8297baa-54ba-442c-c4fb-331fb46892fd"
      },
      "execution_count": null,
      "outputs": [
        {
          "output_type": "stream",
          "name": "stdout",
          "text": [
            "0\n",
            "10\n",
            "20\n",
            "30\n",
            "40\n",
            "50\n",
            "60\n",
            "70\n",
            "80\n",
            "90\n",
            "100\n",
            "110\n",
            "120\n",
            "130\n",
            "140\n",
            "150\n",
            "160\n",
            "170\n",
            "180\n",
            "190\n",
            "200\n",
            "210\n",
            "220\n",
            "230\n",
            "240\n"
          ]
        }
      ]
    },
    {
      "cell_type": "markdown",
      "source": [
        "# Eval"
      ],
      "metadata": {
        "id": "JWk6dQukpKRh"
      }
    },
    {
      "cell_type": "code",
      "source": [
        "import numpy as np\n",
        "from dsp.utils import EM, F1\n",
        "from nltk.translate.bleu_score import sentence_bleu\n",
        "\n",
        "with open('cot_results_no_rat.txt', 'r') as f:\n",
        "  i = -1\n",
        "  total = 0\n",
        "  l = [0]\n",
        "  for line in f:\n",
        "    if len(line.strip()) == 1:\n",
        "      i += 1\n",
        "      total += l[0]\n",
        "      l = []\n",
        "      continue\n",
        "    tmp1 = ' '.join(line.strip().split())\n",
        "    tmp2 = ' '.join(test_short['output'][i].strip().split())\n",
        "    d4 = editdistance.eval(tmp1, tmp2) / len(tmp2)\n",
        "    d1 = EM(tmp1, [tmp2])\n",
        "    d2 = F1(tmp1, [tmp2])\n",
        "    d3 = sentence_bleu([tmp2.split()], tmp1.split(), weights=(0.25, 0.25, 0.25, 0.25))\n",
        "    l.append(np.array([d1, d2, d3, d4]))\n",
        "  print(total / 250)"
      ],
      "metadata": {
        "colab": {
          "base_uri": "https://localhost:8080/"
        },
        "id": "jNTcjRvfsQAC",
        "outputId": "bc6728b9-b63b-4751-9ca4-09a32087ccc5"
      },
      "execution_count": null,
      "outputs": [
        {
          "output_type": "stream",
          "name": "stdout",
          "text": [
            "[0.02       0.55987101 0.26388626 0.58736817]\n"
          ]
        },
        {
          "output_type": "stream",
          "name": "stderr",
          "text": [
            "/usr/local/lib/python3.10/dist-packages/nltk/translate/bleu_score.py:552: UserWarning: \n",
            "The hypothesis contains 0 counts of 3-gram overlaps.\n",
            "Therefore the BLEU score evaluates to 0, independently of\n",
            "how many N-gram overlaps of lower order it contains.\n",
            "Consider using lower n-gram order or use SmoothingFunction()\n",
            "  warnings.warn(_msg)\n",
            "/usr/local/lib/python3.10/dist-packages/nltk/translate/bleu_score.py:552: UserWarning: \n",
            "The hypothesis contains 0 counts of 4-gram overlaps.\n",
            "Therefore the BLEU score evaluates to 0, independently of\n",
            "how many N-gram overlaps of lower order it contains.\n",
            "Consider using lower n-gram order or use SmoothingFunction()\n",
            "  warnings.warn(_msg)\n",
            "/usr/local/lib/python3.10/dist-packages/nltk/translate/bleu_score.py:552: UserWarning: \n",
            "The hypothesis contains 0 counts of 2-gram overlaps.\n",
            "Therefore the BLEU score evaluates to 0, independently of\n",
            "how many N-gram overlaps of lower order it contains.\n",
            "Consider using lower n-gram order or use SmoothingFunction()\n",
            "  warnings.warn(_msg)\n"
          ]
        }
      ]
    },
    {
      "cell_type": "code",
      "source": [
        "with open('cot_results.txt', 'r') as f:\n",
        "  i = -1\n",
        "  total = []\n",
        "  l = [0]\n",
        "  for line in f:\n",
        "    if len(line.strip()) == 1:\n",
        "      i += 1\n",
        "      total.append(l[0])\n",
        "      l = []\n",
        "      continue\n",
        "    tmp1 = ' '.join(line.strip().split())\n",
        "    tmp2 = ' '.join(test['output'][i].strip().split())\n",
        "    d1 = editdistance.eval(tmp1, tmp2) / len(tmp2)\n",
        "    d2 = F1(tmp1, [tmp2])\n",
        "    d3 = EM(tmp1, [tmp2])\n",
        "    d4 = sentence_bleu([tmp2.split()], tmp1.split(), weights=(0.25, 0.25, 0.25, 0.25))\n",
        "    d = d1 + d2 + d3 + d4\n",
        "    l.append(d)"
      ],
      "metadata": {
        "colab": {
          "base_uri": "https://localhost:8080/"
        },
        "id": "_pXBhXimcnJY",
        "outputId": "7aa68f1d-f990-4e69-f048-c55af8ae4364"
      },
      "execution_count": null,
      "outputs": [
        {
          "output_type": "stream",
          "name": "stderr",
          "text": [
            "/usr/local/lib/python3.10/dist-packages/nltk/translate/bleu_score.py:552: UserWarning: \n",
            "The hypothesis contains 0 counts of 3-gram overlaps.\n",
            "Therefore the BLEU score evaluates to 0, independently of\n",
            "how many N-gram overlaps of lower order it contains.\n",
            "Consider using lower n-gram order or use SmoothingFunction()\n",
            "  warnings.warn(_msg)\n",
            "/usr/local/lib/python3.10/dist-packages/nltk/translate/bleu_score.py:552: UserWarning: \n",
            "The hypothesis contains 0 counts of 4-gram overlaps.\n",
            "Therefore the BLEU score evaluates to 0, independently of\n",
            "how many N-gram overlaps of lower order it contains.\n",
            "Consider using lower n-gram order or use SmoothingFunction()\n",
            "  warnings.warn(_msg)\n",
            "/usr/local/lib/python3.10/dist-packages/nltk/translate/bleu_score.py:552: UserWarning: \n",
            "The hypothesis contains 0 counts of 2-gram overlaps.\n",
            "Therefore the BLEU score evaluates to 0, independently of\n",
            "how many N-gram overlaps of lower order it contains.\n",
            "Consider using lower n-gram order or use SmoothingFunction()\n",
            "  warnings.warn(_msg)\n"
          ]
        }
      ]
    },
    {
      "cell_type": "code",
      "source": [
        "import numpy as np\n",
        "from dsp.utils import EM, F1\n",
        "from nltk.translate.bleu_score import sentence_bleu\n",
        "\n",
        "with open('cot_results_no_rat.txt', 'r') as f:\n",
        "  i = -1\n",
        "  total = []\n",
        "  l = [0]\n",
        "  for line in f:\n",
        "    if len(line.strip()) == 1:\n",
        "      i += 1\n",
        "      total.append(l[0])\n",
        "      l = []\n",
        "      continue\n",
        "    tmp1 = ' '.join(line.strip().split())\n",
        "    tmp2 = ' '.join(test_short['output'][i].strip().split())\n",
        "    d4 = editdistance.eval(tmp1, tmp2) / len(tmp2)\n",
        "    d1 = EM(tmp1, [tmp2])\n",
        "    d2 = F1(tmp1, [tmp2])\n",
        "    d3 = sentence_bleu([tmp2.split()], tmp1.split(), weights=(0.25, 0.25, 0.25, 0.25))\n",
        "    d = d1 + d2 + d3 - d4\n",
        "    l.append(d)\n",
        "total = np.array(total[1:])\n"
      ],
      "metadata": {
        "colab": {
          "base_uri": "https://localhost:8080/"
        },
        "id": "bOOcofVjeV55",
        "outputId": "775d3050-c893-4987-c73c-4206c06c670c"
      },
      "execution_count": null,
      "outputs": [
        {
          "output_type": "stream",
          "name": "stderr",
          "text": [
            "/usr/local/lib/python3.10/dist-packages/nltk/translate/bleu_score.py:552: UserWarning: \n",
            "The hypothesis contains 0 counts of 3-gram overlaps.\n",
            "Therefore the BLEU score evaluates to 0, independently of\n",
            "how many N-gram overlaps of lower order it contains.\n",
            "Consider using lower n-gram order or use SmoothingFunction()\n",
            "  warnings.warn(_msg)\n",
            "/usr/local/lib/python3.10/dist-packages/nltk/translate/bleu_score.py:552: UserWarning: \n",
            "The hypothesis contains 0 counts of 2-gram overlaps.\n",
            "Therefore the BLEU score evaluates to 0, independently of\n",
            "how many N-gram overlaps of lower order it contains.\n",
            "Consider using lower n-gram order or use SmoothingFunction()\n",
            "  warnings.warn(_msg)\n"
          ]
        }
      ]
    },
    {
      "cell_type": "code",
      "source": [
        "np.argsort(total)\n"
      ],
      "metadata": {
        "colab": {
          "base_uri": "https://localhost:8080/"
        },
        "id": "L_Ij5ZG1erDP",
        "outputId": "0c9fb6bd-e7fd-4b55-eac1-4e724fa695f2"
      },
      "execution_count": null,
      "outputs": [
        {
          "output_type": "execute_result",
          "data": {
            "text/plain": [
              "array([ 48,  99,  82, 182, 139,  72, 194, 118,  97,  10,  33,  90,   6,\n",
              "       119,  23,  54, 187, 134,   4, 173,  35,  86, 166,  24,  15, 192,\n",
              "       135,  13,  62, 153, 141,   2, 178, 177, 167, 123,  38, 242, 179,\n",
              "        80,  69, 238, 128, 105, 202, 170,  46, 243, 107,  93, 122, 140,\n",
              "       120,  76, 181,  77, 136,  22,  56,  95, 237, 234, 144, 155, 109,\n",
              "        65,   5, 158, 164,   7, 150, 198, 207,  31, 169, 193, 143, 218,\n",
              "        64,  36, 211,  57, 121, 176,  70, 196, 159,  32,   9, 165, 146,\n",
              "       124, 152, 222,  41, 201, 180,  49, 162,  14,  17, 174, 156,  37,\n",
              "       216,  25, 172, 129, 117,  94, 213,  51,  79, 104, 125,  89, 138,\n",
              "       219,  78,  60,  73, 246, 239, 221,  16, 236,  47, 190, 230,  11,\n",
              "       168,  85,  59, 130, 160,   1, 197,  40, 203, 227, 154, 205, 225,\n",
              "        55, 148, 200, 229, 232,  26, 244,  98, 163, 108, 151, 100,  88,\n",
              "       183, 231, 245,  29,  71, 185,  91, 220, 115,  28, 212,  75, 142,\n",
              "        27, 102,   3,  21,  81,  96, 131,  92,  52, 106, 110, 116,  12,\n",
              "       191,  67,  68,  43,  63, 247, 199, 226, 195,  30, 210,  58, 171,\n",
              "       184, 186, 214,  87, 209,  20, 204, 149, 127, 235, 175, 112, 137,\n",
              "        42, 240, 145,  83,  44, 132,  84,  50, 248,  74, 224, 114,  34,\n",
              "       133, 101,  19,  61, 206, 233, 208, 157,   0,  53,  18, 126, 161,\n",
              "       113,  45, 147, 111, 217, 215, 189, 103,  39,  66, 188, 228, 241,\n",
              "       223,   8])"
            ]
          },
          "metadata": {},
          "execution_count": 45
        }
      ]
    },
    {
      "cell_type": "code",
      "source": [
        "i = 188\n",
        "print(test_short['input'][i])\n",
        "print(test_short['output'][i])"
      ],
      "metadata": {
        "colab": {
          "base_uri": "https://localhost:8080/"
        },
        "id": "P6GnVwbUe2gR",
        "outputId": "ef6b7fd5-8f7c-49bf-be10-6d9c8c8b2886"
      },
      "execution_count": null,
      "outputs": [
        {
          "output_type": "stream",
          "name": "stdout",
          "text": [
            "public boolean isAttachable() { return attachable == null ? false : attachable; }\n",
            "public Boolean isAttachable() { return attachable; }\n"
          ]
        }
      ]
    }
  ],
  "metadata": {
    "colab": {
      "provenance": []
    },
    "kernelspec": {
      "display_name": "Python 3",
      "name": "python3"
    },
    "language_info": {
      "name": "python"
    }
  },
  "nbformat": 4,
  "nbformat_minor": 0
}
